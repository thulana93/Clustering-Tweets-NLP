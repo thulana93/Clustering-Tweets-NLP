{
 "cells": [
  {
   "cell_type": "code",
   "execution_count": 2,
   "id": "feffd640",
   "metadata": {},
   "outputs": [],
   "source": [
    "import nltk\n",
    "import os\n",
    "import pandas as pd\n",
    "import re"
   ]
  },
  {
   "cell_type": "code",
   "execution_count": 3,
   "id": "b9d99a2f",
   "metadata": {},
   "outputs": [],
   "source": [
    "from nltk.corpus import movie_reviews as mr"
   ]
  },
  {
   "cell_type": "code",
   "execution_count": 4,
   "id": "6570d6ae",
   "metadata": {},
   "outputs": [],
   "source": [
    "import tweepy as tw"
   ]
  },
  {
   "cell_type": "code",
   "execution_count": 5,
   "id": "b5c798be",
   "metadata": {},
   "outputs": [],
   "source": [
    "# You need to put your own keys by creating tweeter developer account\n",
    "# please refer: https://developer.twitter.com/en/docs/tutorials/step-by-step-guide-to-making-your-first-request-to-the-twitter-api-v2\n",
    "ACCESS_TOKEN=''\n",
    "ACESS_TOKEN_SECRET=''\n",
    "CONSUMER_API_KEY=''\n",
    "CONSUMER_API_SECRET=''"
   ]
  },
  {
   "cell_type": "code",
   "execution_count": 6,
   "id": "c07b9d3d",
   "metadata": {},
   "outputs": [],
   "source": [
    "# Create an authentication object\n",
    "my_auth_obj = tw.OAuthHandler(CONSUMER_API_KEY, CONSUMER_API_SECRET)\n",
    "\n",
    "# Set access token to auth object\n",
    "my_auth_obj.set_access_token(ACCESS_TOKEN, ACESS_TOKEN_SECRET)\n",
    "\n",
    "# Create an API oject to get tweets using authentication oject\n",
    "my_api = tw.API(my_auth_obj)"
   ]
  },
  {
   "cell_type": "code",
   "execution_count": 7,
   "id": "4aa2a2ee",
   "metadata": {},
   "outputs": [],
   "source": [
    "# remove imojies\n",
    "def remove_emoji(string):\n",
    "    emoji_pattern = re.compile(\"[\"\n",
    "                           u\"\\U0001F600-\\U0001F64F\"  # emoticons\n",
    "                           u\"\\U0001F300-\\U0001F5FF\"  # symbols & pictographs\n",
    "                           u\"\\U0001F680-\\U0001F6FF\"  # transport & map symbols\n",
    "                           u\"\\U0001F1E0-\\U0001F1FF\"  # flags (iOS)\n",
    "                           u\"\\U00002702-\\U000027B0\"\n",
    "                           u\"\\U000024C2-\\U0001F251\"\n",
    "                           \"]+\", flags=re.UNICODE)\n",
    "    return emoji_pattern.sub(r'', string)"
   ]
  },
  {
   "cell_type": "code",
   "execution_count": 8,
   "id": "b53101a3",
   "metadata": {},
   "outputs": [
    {
     "name": "stderr",
     "output_type": "stream",
     "text": [
      "Unexpected parameter: include_rts\n"
     ]
    }
   ],
   "source": [
    "# Remove retweetes\n",
    "my_tweets = my_api.home_timeline(tweet_mode = \"extended\", include_rts=False)"
   ]
  },
  {
   "cell_type": "code",
   "execution_count": 9,
   "id": "9a3dee33",
   "metadata": {},
   "outputs": [
    {
     "data": {
      "text/plain": [
       "['The  Preoperative Diffuse #Glioma MRI Dataset     #BrainTumor #AI #ML ',\n",
       " 'Congratulations to our fellow  and collaborator Julian Posada.\\n\\n ',\n",
       " 'We’re working with  to expand their facility in Ottawa – which will help Canada transition to the next generation of 5G wireless technology, create over 340 good jobs, and provide students with co-op and internship opportunities. More details here:  ',\n",
       " 'CNN models slightly outperformed visual transformer models on diagnosis on chest and upper extremity radiographs     #MSKRad #DeepLearning #AI ',\n",
       " 'AI AGENTS | NonFungibleAI.Eth \\n\\nOwnership of artificial intelligence via NFTs is obvious.\\n\\n elevates the game to the next level:\\n\\nWeb3 AI Agents X AI Nodes = Decentralized AI\\n\\n\\n\\n#AGI #ArtificialIntelligence #NFT #NFTs #NonFungibleAI ',\n",
       " 'MLOps Course - Made With ML\\n\\nGoku Mohandas : \\n\\n#ArtificialIntelligence #DeepLearning #MachineLearning ',\n",
       " 'PDEBENCH: An Extensive Benchmark for Scientific Machine Learning\\n\\nTakamoto et al.: \\n\\n#ArtificialIntelligence #DeepLearning #MachineLearning ',\n",
       " 'Watch live: We’re announcing a project that will help strengthen and grow our country’s wireless infrastructure, and connect Canadians to the jobs of today and tomorrow. Tune in now for more information: ']"
      ]
     },
     "execution_count": 9,
     "metadata": {},
     "output_type": "execute_result"
    }
   ],
   "source": [
    "import re\n",
    "my_tweets_lst = []\n",
    "for tweet in my_tweets:\n",
    "    if tweet.lang == \"en\":\n",
    "        my_tweets_lst.append(re.sub(r'(https://t.co/\\w{10})|(@[^\\s]+)', '',remove_emoji(tweet.full_text)))\n",
    "#     print(tweet.text)\n",
    "#     print(tweet.created_at, '\\n', tweet.user.screen_name, '\\n', tweet.user.location)\n",
    "my_tweets_lst\n",
    "\n",
    "# r' https://t.co/\\w{10}'"
   ]
  },
  {
   "cell_type": "code",
   "execution_count": 10,
   "id": "923cad65",
   "metadata": {},
   "outputs": [
    {
     "data": {
      "text/plain": [
       "'The  Preoperative Diffuse #Glioma MRI Dataset     #BrainTumor #AI #ML '"
      ]
     },
     "execution_count": 10,
     "metadata": {},
     "output_type": "execute_result"
    }
   ],
   "source": [
    "remove_emoji(my_tweets_lst[0])"
   ]
  },
  {
   "cell_type": "code",
   "execution_count": 11,
   "id": "7af6a146",
   "metadata": {},
   "outputs": [
    {
     "data": {
      "text/plain": [
       "8"
      ]
     },
     "execution_count": 11,
     "metadata": {},
     "output_type": "execute_result"
    }
   ],
   "source": [
    "len(my_tweets_lst)"
   ]
  },
  {
   "cell_type": "code",
   "execution_count": 12,
   "id": "7f51ea6b",
   "metadata": {},
   "outputs": [],
   "source": [
    "# df=pd.DataFrame(my_tweets_lst)\n",
    "# df"
   ]
  },
  {
   "cell_type": "markdown",
   "id": "a441100b",
   "metadata": {},
   "source": [
    "# Data Representation - Word level"
   ]
  },
  {
   "cell_type": "raw",
   "id": "ba5f2c72",
   "metadata": {},
   "source": [
    "1. Convert to lowercase\n",
    "2. Tokenize\n",
    "3. Stop word removal\n",
    "4. Steming\n",
    "5. N-grams"
   ]
  },
  {
   "cell_type": "markdown",
   "id": "1b2b39e6",
   "metadata": {},
   "source": [
    "# 1. Convert to lowecase"
   ]
  },
  {
   "cell_type": "code",
   "execution_count": 13,
   "id": "b7e48d49",
   "metadata": {},
   "outputs": [
    {
     "data": {
      "text/plain": [
       "['the  preoperative diffuse #glioma mri dataset     #braintumor #ai #ml ',\n",
       " 'congratulations to our fellow  and collaborator julian posada.\\n\\n ',\n",
       " 'we’re working with  to expand their facility in ottawa – which will help canada transition to the next generation of 5g wireless technology, create over 340 good jobs, and provide students with co-op and internship opportunities. more details here:  ',\n",
       " 'cnn models slightly outperformed visual transformer models on diagnosis on chest and upper extremity radiographs     #mskrad #deeplearning #ai ',\n",
       " 'ai agents | nonfungibleai.eth \\n\\nownership of artificial intelligence via nfts is obvious.\\n\\n elevates the game to the next level:\\n\\nweb3 ai agents x ai nodes = decentralized ai\\n\\n\\n\\n#agi #artificialintelligence #nft #nfts #nonfungibleai ',\n",
       " 'mlops course - made with ml\\n\\ngoku mohandas : \\n\\n#artificialintelligence #deeplearning #machinelearning ',\n",
       " 'pdebench: an extensive benchmark for scientific machine learning\\n\\ntakamoto et al.: \\n\\n#artificialintelligence #deeplearning #machinelearning ',\n",
       " 'watch live: we’re announcing a project that will help strengthen and grow our country’s wireless infrastructure, and connect canadians to the jobs of today and tomorrow. tune in now for more information: ']"
      ]
     },
     "execution_count": 13,
     "metadata": {},
     "output_type": "execute_result"
    }
   ],
   "source": [
    "lower_my_tweets_lst=[]\n",
    "for tw in my_tweets_lst:\n",
    "    lower_my_tweets_lst.append(tw.lower())\n",
    "\n",
    "lower_my_tweets_lst\n",
    "    "
   ]
  },
  {
   "cell_type": "code",
   "execution_count": 14,
   "id": "b8a118ca",
   "metadata": {},
   "outputs": [],
   "source": [
    "# Spliting the tweets\n",
    "t1 = lower_my_tweets_lst[0]\n",
    "t2 = lower_my_tweets_lst[1]\n",
    "t3 = lower_my_tweets_lst[2]\n",
    "t4 = lower_my_tweets_lst[3]\n",
    "t5 = lower_my_tweets_lst[4]\n",
    "t6 = lower_my_tweets_lst[5]\n",
    "t7 = lower_my_tweets_lst[6]\n",
    "t8 = lower_my_tweets_lst[7]"
   ]
  },
  {
   "cell_type": "code",
   "execution_count": 15,
   "id": "506b9fe0",
   "metadata": {},
   "outputs": [
    {
     "name": "stdout",
     "output_type": "stream",
     "text": [
      "the  preoperative diffuse #glioma mri dataset     #braintumor #ai #ml \n",
      "congratulations to our fellow  and collaborator julian posada.\n",
      "\n",
      " \n",
      "we’re working with  to expand their facility in ottawa – which will help canada transition to the next generation of 5g wireless technology, create over 340 good jobs, and provide students with co-op and internship opportunities. more details here:  \n",
      "cnn models slightly outperformed visual transformer models on diagnosis on chest and upper extremity radiographs     #mskrad #deeplearning #ai \n",
      "ai agents | nonfungibleai.eth \n",
      "\n",
      "ownership of artificial intelligence via nfts is obvious.\n",
      "\n",
      " elevates the game to the next level:\n",
      "\n",
      "web3 ai agents x ai nodes = decentralized ai\n",
      "\n",
      "\n",
      "\n",
      "#agi #artificialintelligence #nft #nfts #nonfungibleai \n",
      "mlops course - made with ml\n",
      "\n",
      "goku mohandas : \n",
      "\n",
      "#artificialintelligence #deeplearning #machinelearning \n",
      "pdebench: an extensive benchmark for scientific machine learning\n",
      "\n",
      "takamoto et al.: \n",
      "\n",
      "#artificialintelligence #deeplearning #machinelearning \n",
      "watch live: we’re announcing a project that will help strengthen and grow our country’s wireless infrastructure, and connect canadians to the jobs of today and tomorrow. tune in now for more information: \n"
     ]
    }
   ],
   "source": [
    "print(t1)\n",
    "print(t2)\n",
    "print(t3)\n",
    "print(t4)\n",
    "print(t5)\n",
    "print(t6)\n",
    "print(t7)\n",
    "print(t8)"
   ]
  },
  {
   "cell_type": "markdown",
   "id": "9ee7dcbb",
   "metadata": {},
   "source": [
    "# 2. Tokenize"
   ]
  },
  {
   "cell_type": "code",
   "execution_count": 18,
   "id": "42614ffe",
   "metadata": {},
   "outputs": [],
   "source": [
    "from nltk.tokenize import sent_tokenize, word_tokenize"
   ]
  },
  {
   "cell_type": "code",
   "execution_count": 27,
   "id": "fcc88c4b",
   "metadata": {
    "collapsed": true
   },
   "outputs": [],
   "source": [
    "# nltk.download('punkt')"
   ]
  },
  {
   "cell_type": "markdown",
   "id": "190d0e34",
   "metadata": {},
   "source": [
    "# Sentence tokenize"
   ]
  },
  {
   "cell_type": "code",
   "execution_count": 165,
   "id": "abf6da8a",
   "metadata": {},
   "outputs": [
    {
     "data": {
      "text/plain": [
       "['#cnn model accurately assessed changes in patients undergoing routine posttreatment mri      #braintumor #ml #machinelearning #esur22']"
      ]
     },
     "execution_count": 165,
     "metadata": {},
     "output_type": "execute_result"
    },
    {
     "data": {
      "text/plain": [
       "['whitelist is live!',\n",
       " '8 \"ai magical dragon\"  wl spots for each crypto ai art  owned!',\n",
       " 'crypto ai art holders must confirm their intention to mint (free + transaction fee) and provide one (1) new wallet per crypto ai art owned.',\n",
       " '#aidragon #montrealai #nft']"
      ]
     },
     "execution_count": 165,
     "metadata": {},
     "output_type": "execute_result"
    },
    {
     "data": {
      "text/plain": [
       "['comparing visual #transformers with cnns on chest and upper extremity radiographs     #visiontransformers #mskrad #ml']"
      ]
     },
     "execution_count": 165,
     "metadata": {},
     "output_type": "execute_result"
    },
    {
     "data": {
      "text/plain": [
       "['just over a year ago, we announced a historic investment in the future of hamilton’s  plant – an investment that is good news for workers, for our economy, and for our environment.',\n",
       " 'today, we broke ground on the project and kicked off construction:']"
      ]
     },
     "execution_count": 165,
     "metadata": {},
     "output_type": "execute_result"
    },
    {
     "data": {
      "text/plain": [
       "['patient-specific hip arthroplasty dislocation risk calculator: an explainable multimodal #machinelearning–based approach     #hipreplacement #deeplearning #ml']"
      ]
     },
     "execution_count": 165,
     "metadata": {},
     "output_type": "execute_result"
    },
    {
     "data": {
      "text/plain": [
       "['pizzas, pastries, and other groceries –  has it all.',\n",
       " 'we stopped by today, ahead of small business week, to thank the workers for being such an important part of the community – and to grab a bite for the road, of course.',\n",
       " 'thanks for the suggestion,']"
      ]
     },
     "execution_count": 165,
     "metadata": {},
     "output_type": "execute_result"
    },
    {
     "data": {
      "text/plain": [
       "['potential biases during #machinelearning model development     #deeplearning #ai #ml']"
      ]
     },
     "execution_count": 165,
     "metadata": {},
     "output_type": "execute_result"
    },
    {
     "data": {
      "text/plain": [
       "['to the workers at  training centre: thank you for building a better, stronger future.',\n",
       " 'we’ll keep working to help break down barriers – because we need the next generation of workers, especially women, to take advantage of the demand that’s out there.']"
      ]
     },
     "execution_count": 165,
     "metadata": {},
     "output_type": "execute_result"
    }
   ],
   "source": [
    "\n",
    "for lower_tw in lower_my_tweets_lst:\n",
    "    sent = sent_tokenize(lower_tw)\n",
    "    sent"
   ]
  },
  {
   "cell_type": "markdown",
   "id": "151ff546",
   "metadata": {},
   "source": [
    "# Word tokenize"
   ]
  },
  {
   "cell_type": "code",
   "execution_count": 22,
   "id": "60993a86",
   "metadata": {},
   "outputs": [
    {
     "data": {
      "text/plain": [
       "[['the',\n",
       "  'preoperative',\n",
       "  'diffuse',\n",
       "  '#',\n",
       "  'glioma',\n",
       "  'mri',\n",
       "  'dataset',\n",
       "  '#',\n",
       "  'braintumor',\n",
       "  '#',\n",
       "  'ai',\n",
       "  '#',\n",
       "  'ml'],\n",
       " ['congratulations',\n",
       "  'to',\n",
       "  'our',\n",
       "  'fellow',\n",
       "  'and',\n",
       "  'collaborator',\n",
       "  'julian',\n",
       "  'posada',\n",
       "  '.'],\n",
       " ['we',\n",
       "  '’',\n",
       "  're',\n",
       "  'working',\n",
       "  'with',\n",
       "  'to',\n",
       "  'expand',\n",
       "  'their',\n",
       "  'facility',\n",
       "  'in',\n",
       "  'ottawa',\n",
       "  '–',\n",
       "  'which',\n",
       "  'will',\n",
       "  'help',\n",
       "  'canada',\n",
       "  'transition',\n",
       "  'to',\n",
       "  'the',\n",
       "  'next',\n",
       "  'generation',\n",
       "  'of',\n",
       "  '5g',\n",
       "  'wireless',\n",
       "  'technology',\n",
       "  ',',\n",
       "  'create',\n",
       "  'over',\n",
       "  '340',\n",
       "  'good',\n",
       "  'jobs',\n",
       "  ',',\n",
       "  'and',\n",
       "  'provide',\n",
       "  'students',\n",
       "  'with',\n",
       "  'co-op',\n",
       "  'and',\n",
       "  'internship',\n",
       "  'opportunities',\n",
       "  '.',\n",
       "  'more',\n",
       "  'details',\n",
       "  'here',\n",
       "  ':'],\n",
       " ['cnn',\n",
       "  'models',\n",
       "  'slightly',\n",
       "  'outperformed',\n",
       "  'visual',\n",
       "  'transformer',\n",
       "  'models',\n",
       "  'on',\n",
       "  'diagnosis',\n",
       "  'on',\n",
       "  'chest',\n",
       "  'and',\n",
       "  'upper',\n",
       "  'extremity',\n",
       "  'radiographs',\n",
       "  '#',\n",
       "  'mskrad',\n",
       "  '#',\n",
       "  'deeplearning',\n",
       "  '#',\n",
       "  'ai'],\n",
       " ['ai',\n",
       "  'agents',\n",
       "  '|',\n",
       "  'nonfungibleai.eth',\n",
       "  'ownership',\n",
       "  'of',\n",
       "  'artificial',\n",
       "  'intelligence',\n",
       "  'via',\n",
       "  'nfts',\n",
       "  'is',\n",
       "  'obvious',\n",
       "  '.',\n",
       "  'elevates',\n",
       "  'the',\n",
       "  'game',\n",
       "  'to',\n",
       "  'the',\n",
       "  'next',\n",
       "  'level',\n",
       "  ':',\n",
       "  'web3',\n",
       "  'ai',\n",
       "  'agents',\n",
       "  'x',\n",
       "  'ai',\n",
       "  'nodes',\n",
       "  '=',\n",
       "  'decentralized',\n",
       "  'ai',\n",
       "  '#',\n",
       "  'agi',\n",
       "  '#',\n",
       "  'artificialintelligence',\n",
       "  '#',\n",
       "  'nft',\n",
       "  '#',\n",
       "  'nfts',\n",
       "  '#',\n",
       "  'nonfungibleai'],\n",
       " ['mlops',\n",
       "  'course',\n",
       "  '-',\n",
       "  'made',\n",
       "  'with',\n",
       "  'ml',\n",
       "  'goku',\n",
       "  'mohandas',\n",
       "  ':',\n",
       "  '#',\n",
       "  'artificialintelligence',\n",
       "  '#',\n",
       "  'deeplearning',\n",
       "  '#',\n",
       "  'machinelearning'],\n",
       " ['pdebench',\n",
       "  ':',\n",
       "  'an',\n",
       "  'extensive',\n",
       "  'benchmark',\n",
       "  'for',\n",
       "  'scientific',\n",
       "  'machine',\n",
       "  'learning',\n",
       "  'takamoto',\n",
       "  'et',\n",
       "  'al',\n",
       "  '.',\n",
       "  ':',\n",
       "  '#',\n",
       "  'artificialintelligence',\n",
       "  '#',\n",
       "  'deeplearning',\n",
       "  '#',\n",
       "  'machinelearning'],\n",
       " ['watch',\n",
       "  'live',\n",
       "  ':',\n",
       "  'we',\n",
       "  '’',\n",
       "  're',\n",
       "  'announcing',\n",
       "  'a',\n",
       "  'project',\n",
       "  'that',\n",
       "  'will',\n",
       "  'help',\n",
       "  'strengthen',\n",
       "  'and',\n",
       "  'grow',\n",
       "  'our',\n",
       "  'country',\n",
       "  '’',\n",
       "  's',\n",
       "  'wireless',\n",
       "  'infrastructure',\n",
       "  ',',\n",
       "  'and',\n",
       "  'connect',\n",
       "  'canadians',\n",
       "  'to',\n",
       "  'the',\n",
       "  'jobs',\n",
       "  'of',\n",
       "  'today',\n",
       "  'and',\n",
       "  'tomorrow',\n",
       "  '.',\n",
       "  'tune',\n",
       "  'in',\n",
       "  'now',\n",
       "  'for',\n",
       "  'more',\n",
       "  'information',\n",
       "  ':']]"
      ]
     },
     "execution_count": 22,
     "metadata": {},
     "output_type": "execute_result"
    }
   ],
   "source": [
    "word_tokens_lst = []\n",
    "for lower_tw in lower_my_tweets_lst:\n",
    "    words_tokens = word_tokenize(lower_tw)\n",
    "    word_tokens_lst.append(words_tokens)\n",
    "    \n",
    "word_tokens_lst\n",
    "#     print(words_tokens)\n",
    "#     print(lower_tw)\n",
    "#     for word in lower_tw:\n",
    "#         words\n",
    "#     ai_tokens = word_tokenize(lower_tw)\n",
    "#     ai_tokens"
   ]
  },
  {
   "cell_type": "code",
   "execution_count": 23,
   "id": "3cb1045f",
   "metadata": {},
   "outputs": [
    {
     "data": {
      "text/plain": [
       "list"
      ]
     },
     "execution_count": 23,
     "metadata": {},
     "output_type": "execute_result"
    }
   ],
   "source": [
    "type(words_tokens)"
   ]
  },
  {
   "cell_type": "code",
   "execution_count": 25,
   "id": "de229a78",
   "metadata": {},
   "outputs": [
    {
     "name": "stdout",
     "output_type": "stream",
     "text": [
      "13\n",
      "9\n",
      "45\n",
      "21\n",
      "40\n",
      "15\n",
      "20\n",
      "40\n"
     ]
    }
   ],
   "source": [
    "for sub_lst_word_token in word_tokens_lst:\n",
    "    print(len(sub_lst_word_token))"
   ]
  },
  {
   "cell_type": "code",
   "execution_count": 26,
   "id": "0dcd34f9",
   "metadata": {},
   "outputs": [
    {
     "data": {
      "text/plain": [
       "FreqDist({'#': 18, 'and': 7, ':': 7, 'ai': 6, 'the': 5, 'to': 5, '.': 5, '’': 3, 'with': 3, 'of': 3, ...})"
      ]
     },
     "execution_count": 26,
     "metadata": {},
     "output_type": "execute_result"
    }
   ],
   "source": [
    "from nltk.probability import FreqDist\n",
    "fdist=FreqDist()\n",
    "\n",
    "for sub_lst_word_token in word_tokens_lst:\n",
    "    for word in sub_lst_word_token:\n",
    "        fdist[word] +=1\n",
    "\n",
    "fdist\n"
   ]
  },
  {
   "cell_type": "markdown",
   "id": "7b545cd9",
   "metadata": {},
   "source": [
    "# 3. Stopword removal"
   ]
  },
  {
   "cell_type": "code",
   "execution_count": 37,
   "id": "cd7c4428",
   "metadata": {
    "collapsed": true
   },
   "outputs": [],
   "source": [
    "# nltk.download('stopwords')"
   ]
  },
  {
   "cell_type": "code",
   "execution_count": 28,
   "id": "18dcbce2",
   "metadata": {},
   "outputs": [
    {
     "data": {
      "text/plain": [
       "['i',\n",
       " 'me',\n",
       " 'my',\n",
       " 'myself',\n",
       " 'we',\n",
       " 'our',\n",
       " 'ours',\n",
       " 'ourselves',\n",
       " 'you',\n",
       " \"you're\",\n",
       " \"you've\",\n",
       " \"you'll\",\n",
       " \"you'd\",\n",
       " 'your',\n",
       " 'yours',\n",
       " 'yourself',\n",
       " 'yourselves',\n",
       " 'he',\n",
       " 'him',\n",
       " 'his',\n",
       " 'himself',\n",
       " 'she',\n",
       " \"she's\",\n",
       " 'her',\n",
       " 'hers',\n",
       " 'herself',\n",
       " 'it',\n",
       " \"it's\",\n",
       " 'its',\n",
       " 'itself',\n",
       " 'they',\n",
       " 'them',\n",
       " 'their',\n",
       " 'theirs',\n",
       " 'themselves',\n",
       " 'what',\n",
       " 'which',\n",
       " 'who',\n",
       " 'whom',\n",
       " 'this',\n",
       " 'that',\n",
       " \"that'll\",\n",
       " 'these',\n",
       " 'those',\n",
       " 'am',\n",
       " 'is',\n",
       " 'are',\n",
       " 'was',\n",
       " 'were',\n",
       " 'be',\n",
       " 'been',\n",
       " 'being',\n",
       " 'have',\n",
       " 'has',\n",
       " 'had',\n",
       " 'having',\n",
       " 'do',\n",
       " 'does',\n",
       " 'did',\n",
       " 'doing',\n",
       " 'a',\n",
       " 'an',\n",
       " 'the',\n",
       " 'and',\n",
       " 'but',\n",
       " 'if',\n",
       " 'or',\n",
       " 'because',\n",
       " 'as',\n",
       " 'until',\n",
       " 'while',\n",
       " 'of',\n",
       " 'at',\n",
       " 'by',\n",
       " 'for',\n",
       " 'with',\n",
       " 'about',\n",
       " 'against',\n",
       " 'between',\n",
       " 'into',\n",
       " 'through',\n",
       " 'during',\n",
       " 'before',\n",
       " 'after',\n",
       " 'above',\n",
       " 'below',\n",
       " 'to',\n",
       " 'from',\n",
       " 'up',\n",
       " 'down',\n",
       " 'in',\n",
       " 'out',\n",
       " 'on',\n",
       " 'off',\n",
       " 'over',\n",
       " 'under',\n",
       " 'again',\n",
       " 'further',\n",
       " 'then',\n",
       " 'once',\n",
       " 'here',\n",
       " 'there',\n",
       " 'when',\n",
       " 'where',\n",
       " 'why',\n",
       " 'how',\n",
       " 'all',\n",
       " 'any',\n",
       " 'both',\n",
       " 'each',\n",
       " 'few',\n",
       " 'more',\n",
       " 'most',\n",
       " 'other',\n",
       " 'some',\n",
       " 'such',\n",
       " 'no',\n",
       " 'nor',\n",
       " 'not',\n",
       " 'only',\n",
       " 'own',\n",
       " 'same',\n",
       " 'so',\n",
       " 'than',\n",
       " 'too',\n",
       " 'very',\n",
       " 's',\n",
       " 't',\n",
       " 'can',\n",
       " 'will',\n",
       " 'just',\n",
       " 'don',\n",
       " \"don't\",\n",
       " 'should',\n",
       " \"should've\",\n",
       " 'now',\n",
       " 'd',\n",
       " 'll',\n",
       " 'm',\n",
       " 'o',\n",
       " 're',\n",
       " 've',\n",
       " 'y',\n",
       " 'ain',\n",
       " 'aren',\n",
       " \"aren't\",\n",
       " 'couldn',\n",
       " \"couldn't\",\n",
       " 'didn',\n",
       " \"didn't\",\n",
       " 'doesn',\n",
       " \"doesn't\",\n",
       " 'hadn',\n",
       " \"hadn't\",\n",
       " 'hasn',\n",
       " \"hasn't\",\n",
       " 'haven',\n",
       " \"haven't\",\n",
       " 'isn',\n",
       " \"isn't\",\n",
       " 'ma',\n",
       " 'mightn',\n",
       " \"mightn't\",\n",
       " 'mustn',\n",
       " \"mustn't\",\n",
       " 'needn',\n",
       " \"needn't\",\n",
       " 'shan',\n",
       " \"shan't\",\n",
       " 'shouldn',\n",
       " \"shouldn't\",\n",
       " 'wasn',\n",
       " \"wasn't\",\n",
       " 'weren',\n",
       " \"weren't\",\n",
       " 'won',\n",
       " \"won't\",\n",
       " 'wouldn',\n",
       " \"wouldn't\"]"
      ]
     },
     "execution_count": 28,
     "metadata": {},
     "output_type": "execute_result"
    }
   ],
   "source": [
    "from nltk.corpus import stopwords as sw\n",
    "stopwordsEng = sw.words('English')\n",
    "stopwordsEng"
   ]
  },
  {
   "cell_type": "code",
   "execution_count": 29,
   "id": "dde7ab3d",
   "metadata": {},
   "outputs": [
    {
     "data": {
      "text/plain": [
       "[['preoperative',\n",
       "  'diffuse',\n",
       "  '#',\n",
       "  'glioma',\n",
       "  'mri',\n",
       "  'dataset',\n",
       "  '#',\n",
       "  'braintumor',\n",
       "  '#',\n",
       "  'ai',\n",
       "  '#',\n",
       "  'ml'],\n",
       " ['congratulations', 'fellow', 'collaborator', 'julian', 'posada', '.'],\n",
       " ['’',\n",
       "  'working',\n",
       "  'expand',\n",
       "  'facility',\n",
       "  'ottawa',\n",
       "  '–',\n",
       "  'help',\n",
       "  'canada',\n",
       "  'transition',\n",
       "  'next',\n",
       "  'generation',\n",
       "  '5g',\n",
       "  'wireless',\n",
       "  'technology',\n",
       "  ',',\n",
       "  'create',\n",
       "  '340',\n",
       "  'good',\n",
       "  'jobs',\n",
       "  ',',\n",
       "  'provide',\n",
       "  'students',\n",
       "  'co-op',\n",
       "  'internship',\n",
       "  'opportunities',\n",
       "  '.',\n",
       "  'details',\n",
       "  ':'],\n",
       " ['cnn',\n",
       "  'models',\n",
       "  'slightly',\n",
       "  'outperformed',\n",
       "  'visual',\n",
       "  'transformer',\n",
       "  'models',\n",
       "  'diagnosis',\n",
       "  'chest',\n",
       "  'upper',\n",
       "  'extremity',\n",
       "  'radiographs',\n",
       "  '#',\n",
       "  'mskrad',\n",
       "  '#',\n",
       "  'deeplearning',\n",
       "  '#',\n",
       "  'ai'],\n",
       " ['ai',\n",
       "  'agents',\n",
       "  '|',\n",
       "  'nonfungibleai.eth',\n",
       "  'ownership',\n",
       "  'artificial',\n",
       "  'intelligence',\n",
       "  'via',\n",
       "  'nfts',\n",
       "  'obvious',\n",
       "  '.',\n",
       "  'elevates',\n",
       "  'game',\n",
       "  'next',\n",
       "  'level',\n",
       "  ':',\n",
       "  'web3',\n",
       "  'ai',\n",
       "  'agents',\n",
       "  'x',\n",
       "  'ai',\n",
       "  'nodes',\n",
       "  '=',\n",
       "  'decentralized',\n",
       "  'ai',\n",
       "  '#',\n",
       "  'agi',\n",
       "  '#',\n",
       "  'artificialintelligence',\n",
       "  '#',\n",
       "  'nft',\n",
       "  '#',\n",
       "  'nfts',\n",
       "  '#',\n",
       "  'nonfungibleai'],\n",
       " ['mlops',\n",
       "  'course',\n",
       "  '-',\n",
       "  'made',\n",
       "  'ml',\n",
       "  'goku',\n",
       "  'mohandas',\n",
       "  ':',\n",
       "  '#',\n",
       "  'artificialintelligence',\n",
       "  '#',\n",
       "  'deeplearning',\n",
       "  '#',\n",
       "  'machinelearning'],\n",
       " ['pdebench',\n",
       "  ':',\n",
       "  'extensive',\n",
       "  'benchmark',\n",
       "  'scientific',\n",
       "  'machine',\n",
       "  'learning',\n",
       "  'takamoto',\n",
       "  'et',\n",
       "  'al',\n",
       "  '.',\n",
       "  ':',\n",
       "  '#',\n",
       "  'artificialintelligence',\n",
       "  '#',\n",
       "  'deeplearning',\n",
       "  '#',\n",
       "  'machinelearning'],\n",
       " ['watch',\n",
       "  'live',\n",
       "  ':',\n",
       "  '’',\n",
       "  'announcing',\n",
       "  'project',\n",
       "  'help',\n",
       "  'strengthen',\n",
       "  'grow',\n",
       "  'country',\n",
       "  '’',\n",
       "  'wireless',\n",
       "  'infrastructure',\n",
       "  ',',\n",
       "  'connect',\n",
       "  'canadians',\n",
       "  'jobs',\n",
       "  'today',\n",
       "  'tomorrow',\n",
       "  '.',\n",
       "  'tune',\n",
       "  'information',\n",
       "  ':']]"
      ]
     },
     "execution_count": 29,
     "metadata": {},
     "output_type": "execute_result"
    }
   ],
   "source": [
    "word_tokens_lst_wo_sw = []\n",
    "\n",
    "for sub_lst_word_token in word_tokens_lst:\n",
    "    word_tokens_sub_lst_wo_sw = []\n",
    "    word_tokens_lst_wo_sw.append(word_tokens_sub_lst_wo_sw)\n",
    "    for word in sub_lst_word_token:\n",
    "        if word not in stopwordsEng:\n",
    "            word_tokens_sub_lst_wo_sw.append(word)\n",
    "\n",
    "word_tokens_lst_wo_sw\n"
   ]
  },
  {
   "cell_type": "code",
   "execution_count": 30,
   "id": "d355a372",
   "metadata": {},
   "outputs": [
    {
     "data": {
      "text/plain": [
       "8"
      ]
     },
     "execution_count": 30,
     "metadata": {},
     "output_type": "execute_result"
    }
   ],
   "source": [
    "len(word_tokens_lst_wo_sw)"
   ]
  },
  {
   "cell_type": "code",
   "execution_count": 31,
   "id": "5d7eb7a1",
   "metadata": {},
   "outputs": [
    {
     "name": "stdout",
     "output_type": "stream",
     "text": [
      "12\n",
      "6\n",
      "28\n",
      "18\n",
      "35\n",
      "14\n",
      "18\n",
      "23\n"
     ]
    }
   ],
   "source": [
    "for i in word_tokens_lst_wo_sw:\n",
    "    print(len(i))"
   ]
  },
  {
   "cell_type": "code",
   "execution_count": 54,
   "id": "28ddcdd6",
   "metadata": {},
   "outputs": [],
   "source": [
    "words_to_remove = ['(', ')', ',', '.', '[', ']', '``', \"''\",'#','=','|', ':', '_', '-', '–', '’']"
   ]
  },
  {
   "cell_type": "code",
   "execution_count": 55,
   "id": "36ef3030",
   "metadata": {},
   "outputs": [],
   "source": [
    "my_own_stopwords = words_to_remove + stopwordsEng"
   ]
  },
  {
   "cell_type": "code",
   "execution_count": 56,
   "id": "20eaa785",
   "metadata": {},
   "outputs": [
    {
     "data": {
      "text/plain": [
       "[['preoperative',\n",
       "  'diffuse',\n",
       "  'glioma',\n",
       "  'mri',\n",
       "  'dataset',\n",
       "  'braintumor',\n",
       "  'ai',\n",
       "  'ml'],\n",
       " ['congratulations', 'fellow', 'collaborator', 'julian', 'posada'],\n",
       " ['working',\n",
       "  'expand',\n",
       "  'facility',\n",
       "  'ottawa',\n",
       "  'help',\n",
       "  'canada',\n",
       "  'transition',\n",
       "  'next',\n",
       "  'generation',\n",
       "  '5g',\n",
       "  'wireless',\n",
       "  'technology',\n",
       "  'create',\n",
       "  '340',\n",
       "  'good',\n",
       "  'jobs',\n",
       "  'provide',\n",
       "  'students',\n",
       "  'co-op',\n",
       "  'internship',\n",
       "  'opportunities',\n",
       "  'details'],\n",
       " ['cnn',\n",
       "  'models',\n",
       "  'slightly',\n",
       "  'outperformed',\n",
       "  'visual',\n",
       "  'transformer',\n",
       "  'models',\n",
       "  'diagnosis',\n",
       "  'chest',\n",
       "  'upper',\n",
       "  'extremity',\n",
       "  'radiographs',\n",
       "  'mskrad',\n",
       "  'deeplearning',\n",
       "  'ai'],\n",
       " ['ai',\n",
       "  'agents',\n",
       "  'nonfungibleai.eth',\n",
       "  'ownership',\n",
       "  'artificial',\n",
       "  'intelligence',\n",
       "  'via',\n",
       "  'nfts',\n",
       "  'obvious',\n",
       "  'elevates',\n",
       "  'game',\n",
       "  'next',\n",
       "  'level',\n",
       "  'web3',\n",
       "  'ai',\n",
       "  'agents',\n",
       "  'x',\n",
       "  'ai',\n",
       "  'nodes',\n",
       "  'decentralized',\n",
       "  'ai',\n",
       "  'agi',\n",
       "  'artificialintelligence',\n",
       "  'nft',\n",
       "  'nfts',\n",
       "  'nonfungibleai'],\n",
       " ['mlops',\n",
       "  'course',\n",
       "  'made',\n",
       "  'ml',\n",
       "  'goku',\n",
       "  'mohandas',\n",
       "  'artificialintelligence',\n",
       "  'deeplearning',\n",
       "  'machinelearning'],\n",
       " ['pdebench',\n",
       "  'extensive',\n",
       "  'benchmark',\n",
       "  'scientific',\n",
       "  'machine',\n",
       "  'learning',\n",
       "  'takamoto',\n",
       "  'et',\n",
       "  'al',\n",
       "  'artificialintelligence',\n",
       "  'deeplearning',\n",
       "  'machinelearning'],\n",
       " ['watch',\n",
       "  'live',\n",
       "  'announcing',\n",
       "  'project',\n",
       "  'help',\n",
       "  'strengthen',\n",
       "  'grow',\n",
       "  'country',\n",
       "  'wireless',\n",
       "  'infrastructure',\n",
       "  'connect',\n",
       "  'canadians',\n",
       "  'jobs',\n",
       "  'today',\n",
       "  'tomorrow',\n",
       "  'tune',\n",
       "  'information']]"
      ]
     },
     "execution_count": 56,
     "metadata": {},
     "output_type": "execute_result"
    }
   ],
   "source": [
    "# word_tokens_lst_wo_sw = []\n",
    "# for sub_lst_word_token in word_tokens_lst:\n",
    "#     word_tokens_sub_lst_wo_sw = []\n",
    "#     word_tokens_lst_wo_sw.append(word_tokens_sub_lst_wo_sw)\n",
    "#     for word in sub_lst_word_token:\n",
    "#         if word not in stopwordsEng:\n",
    "#             word_tokens_sub_lst_wo_sw.append(word)\n",
    "\n",
    "# word_tokens_lst_wo_sw\n",
    "\n",
    "word_tokens_lst_wo_sw_myown = []\n",
    "for sub_lst_word_token in word_tokens_lst:\n",
    "    word_tokens_sub_lst_wo_sw_myown = []\n",
    "    word_tokens_lst_wo_sw_myown.append(word_tokens_sub_lst_wo_sw_myown)\n",
    "    for word in sub_lst_word_token:\n",
    "        if word not in my_own_stopwords:\n",
    "            word_tokens_sub_lst_wo_sw_myown.append(word)\n",
    "\n",
    "word_tokens_lst_wo_sw_myown"
   ]
  },
  {
   "cell_type": "code",
   "execution_count": 57,
   "id": "d60042df",
   "metadata": {},
   "outputs": [
    {
     "name": "stdout",
     "output_type": "stream",
     "text": [
      "8\n",
      "5\n",
      "22\n",
      "15\n",
      "26\n",
      "9\n",
      "12\n",
      "17\n"
     ]
    }
   ],
   "source": [
    "for j in word_tokens_lst_wo_sw_myown:\n",
    "    print(len(j))"
   ]
  },
  {
   "cell_type": "markdown",
   "id": "d13afe97",
   "metadata": {},
   "source": [
    "# Steming"
   ]
  },
  {
   "cell_type": "code",
   "execution_count": 60,
   "id": "d58fbd88",
   "metadata": {},
   "outputs": [],
   "source": [
    "from nltk.stem import PorterStemmer"
   ]
  },
  {
   "cell_type": "code",
   "execution_count": 61,
   "id": "0aae112f",
   "metadata": {},
   "outputs": [],
   "source": [
    "poter=PorterStemmer()"
   ]
  },
  {
   "cell_type": "code",
   "execution_count": 62,
   "id": "ae9c1f72",
   "metadata": {},
   "outputs": [
    {
     "data": {
      "text/plain": [
       "[['preoper', 'diffus', 'glioma', 'mri', 'dataset', 'braintumor', 'ai', 'ml'],\n",
       " ['congratul', 'fellow', 'collabor', 'julian', 'posada'],\n",
       " ['work',\n",
       "  'expand',\n",
       "  'facil',\n",
       "  'ottawa',\n",
       "  'help',\n",
       "  'canada',\n",
       "  'transit',\n",
       "  'next',\n",
       "  'gener',\n",
       "  '5g',\n",
       "  'wireless',\n",
       "  'technolog',\n",
       "  'creat',\n",
       "  '340',\n",
       "  'good',\n",
       "  'job',\n",
       "  'provid',\n",
       "  'student',\n",
       "  'co-op',\n",
       "  'internship',\n",
       "  'opportun',\n",
       "  'detail'],\n",
       " ['cnn',\n",
       "  'model',\n",
       "  'slightli',\n",
       "  'outperform',\n",
       "  'visual',\n",
       "  'transform',\n",
       "  'model',\n",
       "  'diagnosi',\n",
       "  'chest',\n",
       "  'upper',\n",
       "  'extrem',\n",
       "  'radiograph',\n",
       "  'mskrad',\n",
       "  'deeplearn',\n",
       "  'ai'],\n",
       " ['ai',\n",
       "  'agent',\n",
       "  'nonfungibleai.eth',\n",
       "  'ownership',\n",
       "  'artifici',\n",
       "  'intellig',\n",
       "  'via',\n",
       "  'nft',\n",
       "  'obviou',\n",
       "  'elev',\n",
       "  'game',\n",
       "  'next',\n",
       "  'level',\n",
       "  'web3',\n",
       "  'ai',\n",
       "  'agent',\n",
       "  'x',\n",
       "  'ai',\n",
       "  'node',\n",
       "  'decentr',\n",
       "  'ai',\n",
       "  'agi',\n",
       "  'artificialintellig',\n",
       "  'nft',\n",
       "  'nft',\n",
       "  'nonfungibleai'],\n",
       " ['mlop',\n",
       "  'cours',\n",
       "  'made',\n",
       "  'ml',\n",
       "  'goku',\n",
       "  'mohanda',\n",
       "  'artificialintellig',\n",
       "  'deeplearn',\n",
       "  'machinelearn'],\n",
       " ['pdebench',\n",
       "  'extens',\n",
       "  'benchmark',\n",
       "  'scientif',\n",
       "  'machin',\n",
       "  'learn',\n",
       "  'takamoto',\n",
       "  'et',\n",
       "  'al',\n",
       "  'artificialintellig',\n",
       "  'deeplearn',\n",
       "  'machinelearn'],\n",
       " ['watch',\n",
       "  'live',\n",
       "  'announc',\n",
       "  'project',\n",
       "  'help',\n",
       "  'strengthen',\n",
       "  'grow',\n",
       "  'countri',\n",
       "  'wireless',\n",
       "  'infrastructur',\n",
       "  'connect',\n",
       "  'canadian',\n",
       "  'job',\n",
       "  'today',\n",
       "  'tomorrow',\n",
       "  'tune',\n",
       "  'inform']]"
      ]
     },
     "execution_count": 62,
     "metadata": {},
     "output_type": "execute_result"
    }
   ],
   "source": [
    "word_tokens_lst_wo_sw_myown_stem = []\n",
    "\n",
    "for word_tokens_sub_lst_wo_sw_myown in word_tokens_lst_wo_sw_myown:\n",
    "    word_tokens_sub_lst_wo_sw_myown_stem=[]\n",
    "    word_tokens_lst_wo_sw_myown_stem.append(word_tokens_sub_lst_wo_sw_myown_stem)\n",
    "    for word in word_tokens_sub_lst_wo_sw_myown:\n",
    "        stem_word = poter.stem(word)\n",
    "        word_tokens_sub_lst_wo_sw_myown_stem.append(stem_word)\n",
    "    \n",
    "word_tokens_lst_wo_sw_myown_stem"
   ]
  },
  {
   "cell_type": "code",
   "execution_count": 63,
   "id": "5b8def6a",
   "metadata": {},
   "outputs": [
    {
     "name": "stdout",
     "output_type": "stream",
     "text": [
      "8\n",
      "5\n",
      "22\n",
      "15\n",
      "26\n",
      "9\n",
      "12\n",
      "17\n"
     ]
    }
   ],
   "source": [
    "for k in word_tokens_lst_wo_sw_myown_stem:\n",
    "    print(len(k))"
   ]
  },
  {
   "cell_type": "markdown",
   "id": "70e66978",
   "metadata": {
    "collapsed": true
   },
   "source": [
    "# Text Similarities"
   ]
  },
  {
   "cell_type": "code",
   "execution_count": 64,
   "id": "9d482de5",
   "metadata": {},
   "outputs": [],
   "source": [
    "from sklearn.feature_extraction.text import TfidfVectorizer"
   ]
  },
  {
   "cell_type": "code",
   "execution_count": 68,
   "id": "ec49e8a1",
   "metadata": {},
   "outputs": [],
   "source": [
    "def get_vector(*Str):\n",
    "    my_text = [text for text in Str]\n",
    "    \n",
    "    tfidf = TfidfVectorizer()\n",
    "    feature_matrix = tfidf.fit_transform(my_text)\n",
    "    my_vector = feature_matrix.toarray()\n",
    "    \n",
    "    names =  tfidf.get_feature_names()\n",
    "    return my_vector"
   ]
  },
  {
   "cell_type": "code",
   "execution_count": 76,
   "id": "c169370e",
   "metadata": {},
   "outputs": [
    {
     "data": {
      "text/plain": [
       "str"
      ]
     },
     "execution_count": 76,
     "metadata": {},
     "output_type": "execute_result"
    }
   ],
   "source": [
    "t1 = \" \".join(word_tokens_lst_wo_sw_myown_stem[0]\n",
    "t2 = \" \".join(word_tokens_lst_wo_sw_myown_stem[1]\n",
    "t3 = \" \".join(word_tokens_lst_wo_sw_myown_stem[2]\n",
    "t4 = \" \".join(word_tokens_lst_wo_sw_myown_stem[3]\n",
    "t5 = \" \".join(word_tokens_lst_wo_sw_myown_stem[4]\n",
    "t6 = \" \".join(word_tokens_lst_wo_sw_myown_stem[5]\n",
    "t7 = \" \".join(word_tokens_lst_wo_sw_myown_stem[6]\n",
    "t8 = \" \".join(word_tokens_lst_wo_sw_myown_stem[7])"
   ]
  },
  {
   "cell_type": "code",
   "execution_count": 78,
   "id": "3afbc374",
   "metadata": {},
   "outputs": [
    {
     "data": {
      "text/plain": [
       "array([[0.        , 0.        , 0.        , 0.        , 0.27150219,\n",
       "        0.        , 0.        , 0.        , 0.        , 0.        ,\n",
       "        0.        , 0.        , 0.35885037, 0.        , 0.        ,\n",
       "        0.        , 0.        , 0.        , 0.        , 0.        ,\n",
       "        0.        , 0.        , 0.35885037, 0.        , 0.        ,\n",
       "        0.        , 0.        , 0.35885037, 0.        , 0.        ,\n",
       "        0.        , 0.        , 0.        , 0.        , 0.        ,\n",
       "        0.        , 0.        , 0.        , 0.35885037, 0.        ,\n",
       "        0.        , 0.        , 0.        , 0.        , 0.        ,\n",
       "        0.        , 0.        , 0.        , 0.        , 0.        ,\n",
       "        0.        , 0.        , 0.        , 0.        , 0.        ,\n",
       "        0.        , 0.        , 0.30965842, 0.        , 0.        ,\n",
       "        0.        , 0.        , 0.35885037, 0.        , 0.        ,\n",
       "        0.        , 0.        , 0.        , 0.        , 0.        ,\n",
       "        0.        , 0.        , 0.        , 0.        , 0.        ,\n",
       "        0.        , 0.        , 0.        , 0.        , 0.        ,\n",
       "        0.        , 0.35885037, 0.        , 0.        , 0.        ,\n",
       "        0.        , 0.        , 0.        , 0.        , 0.        ,\n",
       "        0.        , 0.        , 0.        , 0.24032627, 0.        ,\n",
       "        0.        , 0.        , 0.        , 0.        , 0.        ,\n",
       "        0.        , 0.        , 0.        , 0.        , 0.        ,\n",
       "        0.        , 0.        , 0.        , 0.        , 0.        ,\n",
       "        0.        , 0.        ],\n",
       "       [0.        , 0.        , 0.        , 0.        , 0.27150219,\n",
       "        0.        , 0.        , 0.        , 0.        , 0.        ,\n",
       "        0.        , 0.        , 0.35885037, 0.        , 0.        ,\n",
       "        0.        , 0.        , 0.        , 0.        , 0.        ,\n",
       "        0.        , 0.        , 0.35885037, 0.        , 0.        ,\n",
       "        0.        , 0.        , 0.35885037, 0.        , 0.        ,\n",
       "        0.        , 0.        , 0.        , 0.        , 0.        ,\n",
       "        0.        , 0.        , 0.        , 0.35885037, 0.        ,\n",
       "        0.        , 0.        , 0.        , 0.        , 0.        ,\n",
       "        0.        , 0.        , 0.        , 0.        , 0.        ,\n",
       "        0.        , 0.        , 0.        , 0.        , 0.        ,\n",
       "        0.        , 0.        , 0.30965842, 0.        , 0.        ,\n",
       "        0.        , 0.        , 0.35885037, 0.        , 0.        ,\n",
       "        0.        , 0.        , 0.        , 0.        , 0.        ,\n",
       "        0.        , 0.        , 0.        , 0.        , 0.        ,\n",
       "        0.        , 0.        , 0.        , 0.        , 0.        ,\n",
       "        0.        , 0.35885037, 0.        , 0.        , 0.        ,\n",
       "        0.        , 0.        , 0.        , 0.        , 0.        ,\n",
       "        0.        , 0.        , 0.        , 0.24032627, 0.        ,\n",
       "        0.        , 0.        , 0.        , 0.        , 0.        ,\n",
       "        0.        , 0.        , 0.        , 0.        , 0.        ,\n",
       "        0.        , 0.        , 0.        , 0.        , 0.        ,\n",
       "        0.        , 0.        ],\n",
       "       [0.16406021, 0.16406021, 0.        , 0.        , 0.        ,\n",
       "        0.        , 0.        , 0.23729426, 0.        , 0.        ,\n",
       "        0.        , 0.        , 0.        , 0.16406021, 0.        ,\n",
       "        0.        , 0.        , 0.16406021, 0.        , 0.        ,\n",
       "        0.        , 0.16406021, 0.        , 0.        , 0.        ,\n",
       "        0.16406021, 0.        , 0.        , 0.        , 0.        ,\n",
       "        0.        , 0.16406021, 0.        , 0.        , 0.16406021,\n",
       "        0.        , 0.        , 0.16406021, 0.        , 0.        ,\n",
       "        0.16406021, 0.        , 0.13749526, 0.16406021, 0.13749526,\n",
       "        0.        , 0.        , 0.        , 0.16406021, 0.        ,\n",
       "        0.13749526, 0.        , 0.        , 0.        , 0.        ,\n",
       "        0.        , 0.        , 0.        , 0.        , 0.        ,\n",
       "        0.        , 0.13749526, 0.        , 0.        , 0.13749526,\n",
       "        0.        , 0.        , 0.        , 0.        , 0.        ,\n",
       "        0.        , 0.11864713, 0.        , 0.16406021, 0.16406021,\n",
       "        0.16406021, 0.        , 0.        , 0.16406021, 0.        ,\n",
       "        0.        , 0.        , 0.        , 0.16406021, 0.        ,\n",
       "        0.13749526, 0.        , 0.        , 0.        , 0.16406021,\n",
       "        0.        , 0.16406021, 0.        , 0.09208218, 0.16406021,\n",
       "        0.23729426, 0.        , 0.        , 0.        , 0.16406021,\n",
       "        0.        , 0.        , 0.        , 0.        , 0.        ,\n",
       "        0.13749526, 0.        , 0.16406021, 0.13749526, 0.13749526,\n",
       "        0.27499052, 0.16406021],\n",
       "       [0.        , 0.        , 0.        , 0.        , 0.14022266,\n",
       "        0.        , 0.        , 0.1599292 , 0.        , 0.        ,\n",
       "        0.        , 0.        , 0.        , 0.        , 0.        ,\n",
       "        0.22114331, 0.22114331, 0.        , 0.        , 0.        ,\n",
       "        0.        , 0.        , 0.        , 0.        , 0.1599292 ,\n",
       "        0.        , 0.22114331, 0.        , 0.        , 0.        ,\n",
       "        0.        , 0.        , 0.        , 0.22114331, 0.        ,\n",
       "        0.        , 0.        , 0.        , 0.        , 0.        ,\n",
       "        0.        , 0.        , 0.        , 0.        , 0.        ,\n",
       "        0.        , 0.        , 0.        , 0.        , 0.        ,\n",
       "        0.        , 0.        , 0.        , 0.        , 0.        ,\n",
       "        0.        , 0.        , 0.        , 0.        , 0.44228662,\n",
       "        0.        , 0.        , 0.        , 0.22114331, 0.        ,\n",
       "        0.        , 0.        , 0.        , 0.        , 0.        ,\n",
       "        0.        , 0.        , 0.44228662, 0.        , 0.        ,\n",
       "        0.        , 0.        , 0.22114331, 0.        , 0.        ,\n",
       "        0.        , 0.        , 0.        , 0.        , 0.22114331,\n",
       "        0.        , 0.        , 0.22114331, 0.        , 0.        ,\n",
       "        0.        , 0.        , 0.        , 0.        , 0.        ,\n",
       "        0.        , 0.        , 0.        , 0.22114331, 0.        ,\n",
       "        0.        , 0.22114331, 0.        , 0.22114331, 0.        ,\n",
       "        0.        , 0.        , 0.        , 0.        , 0.        ,\n",
       "        0.        , 0.        ],\n",
       "       [0.        , 0.        , 0.32895615, 0.16447808, 0.41716937,\n",
       "        0.        , 0.        , 0.        , 0.        , 0.16447808,\n",
       "        0.11894933, 0.        , 0.        , 0.        , 0.        ,\n",
       "        0.        , 0.        , 0.        , 0.        , 0.        ,\n",
       "        0.        , 0.        , 0.        , 0.16447808, 0.        ,\n",
       "        0.        , 0.        , 0.        , 0.16447808, 0.        ,\n",
       "        0.16447808, 0.        , 0.        , 0.        , 0.        ,\n",
       "        0.        , 0.16447808, 0.        , 0.        , 0.        ,\n",
       "        0.        , 0.        , 0.        , 0.        , 0.        ,\n",
       "        0.        , 0.        , 0.16447808, 0.        , 0.16447808,\n",
       "        0.        , 0.        , 0.16447808, 0.        , 0.        ,\n",
       "        0.        , 0.        , 0.        , 0.        , 0.        ,\n",
       "        0.        , 0.        , 0.        , 0.        , 0.13784546,\n",
       "        0.16447808, 0.32895615, 0.16447808, 0.32895615, 0.        ,\n",
       "        0.16447808, 0.11894933, 0.        , 0.        , 0.        ,\n",
       "        0.        , 0.        , 0.        , 0.        , 0.16447808,\n",
       "        0.        , 0.        , 0.        , 0.        , 0.        ,\n",
       "        0.        , 0.        , 0.        , 0.        , 0.        ,\n",
       "        0.        , 0.        , 0.        , 0.18463343, 0.        ,\n",
       "        0.11894933, 0.        , 0.        , 0.        , 0.        ,\n",
       "        0.        , 0.        , 0.16447808, 0.        , 0.        ,\n",
       "        0.        , 0.16447808, 0.        , 0.        , 0.        ,\n",
       "        0.        , 0.        ],\n",
       "       [0.        , 0.        , 0.        , 0.        , 0.        ,\n",
       "        0.        , 0.        , 0.        , 0.        , 0.        ,\n",
       "        0.25610736, 0.        , 0.        , 0.        , 0.        ,\n",
       "        0.        , 0.        , 0.        , 0.        , 0.        ,\n",
       "        0.35413438, 0.        , 0.        , 0.        , 0.25610736,\n",
       "        0.        , 0.        , 0.        , 0.        , 0.        ,\n",
       "        0.        , 0.        , 0.        , 0.        , 0.        ,\n",
       "        0.        , 0.        , 0.        , 0.        , 0.35413438,\n",
       "        0.        , 0.        , 0.        , 0.        , 0.        ,\n",
       "        0.        , 0.        , 0.        , 0.        , 0.        ,\n",
       "        0.        , 0.        , 0.        , 0.        , 0.        ,\n",
       "        0.29679225, 0.35413438, 0.25610736, 0.35413438, 0.        ,\n",
       "        0.35413438, 0.        , 0.        , 0.        , 0.        ,\n",
       "        0.        , 0.        , 0.        , 0.        , 0.        ,\n",
       "        0.        , 0.        , 0.        , 0.        , 0.        ,\n",
       "        0.        , 0.        , 0.        , 0.        , 0.        ,\n",
       "        0.        , 0.        , 0.        , 0.        , 0.        ,\n",
       "        0.        , 0.        , 0.        , 0.        , 0.        ,\n",
       "        0.        , 0.        , 0.        , 0.        , 0.        ,\n",
       "        0.        , 0.        , 0.        , 0.        , 0.        ,\n",
       "        0.        , 0.        , 0.        , 0.        , 0.        ,\n",
       "        0.        , 0.        , 0.        , 0.        , 0.        ,\n",
       "        0.29679225, 0.        ],\n",
       "       [0.        , 0.        , 0.        , 0.        , 0.        ,\n",
       "        0.2834014 , 0.2834014 , 0.        , 0.        , 0.        ,\n",
       "        0.20495379, 0.2834014 , 0.        , 0.        , 0.        ,\n",
       "        0.        , 0.        , 0.        , 0.        , 0.        ,\n",
       "        0.        , 0.        , 0.        , 0.        , 0.20495379,\n",
       "        0.        , 0.        , 0.        , 0.        , 0.2834014 ,\n",
       "        0.        , 0.        , 0.2834014 , 0.        , 0.        ,\n",
       "        0.23751249, 0.        , 0.        , 0.        , 0.        ,\n",
       "        0.        , 0.        , 0.        , 0.        , 0.        ,\n",
       "        0.        , 0.        , 0.        , 0.        , 0.        ,\n",
       "        0.        , 0.2834014 , 0.        , 0.        , 0.2834014 ,\n",
       "        0.23751249, 0.        , 0.        , 0.        , 0.        ,\n",
       "        0.        , 0.        , 0.        , 0.        , 0.        ,\n",
       "        0.        , 0.        , 0.        , 0.        , 0.        ,\n",
       "        0.        , 0.        , 0.        , 0.        , 0.        ,\n",
       "        0.        , 0.        , 0.        , 0.        , 0.        ,\n",
       "        0.2834014 , 0.        , 0.        , 0.        , 0.        ,\n",
       "        0.        , 0.2834014 , 0.        , 0.        , 0.        ,\n",
       "        0.2834014 , 0.        , 0.        , 0.        , 0.        ,\n",
       "        0.        , 0.        , 0.        , 0.        , 0.        ,\n",
       "        0.        , 0.        , 0.        , 0.        , 0.        ,\n",
       "        0.        , 0.        , 0.        , 0.        , 0.        ,\n",
       "        0.        , 0.        ],\n",
       "       [0.        , 0.        , 0.        , 0.        , 0.        ,\n",
       "        0.        , 0.        , 0.40020201, 0.18446078, 0.        ,\n",
       "        0.        , 0.        , 0.        , 0.        , 0.18446078,\n",
       "        0.        , 0.        , 0.        , 0.18446078, 0.18446078,\n",
       "        0.        , 0.        , 0.        , 0.        , 0.        ,\n",
       "        0.        , 0.        , 0.        , 0.        , 0.        ,\n",
       "        0.        , 0.        , 0.        , 0.        , 0.        ,\n",
       "        0.15459253, 0.        , 0.        , 0.        , 0.        ,\n",
       "        0.        , 0.18446078, 0.15459253, 0.        , 0.15459253,\n",
       "        0.18446078, 0.18446078, 0.        , 0.        , 0.        ,\n",
       "        0.15459253, 0.        , 0.        , 0.18446078, 0.        ,\n",
       "        0.        , 0.        , 0.        , 0.        , 0.        ,\n",
       "        0.        , 0.15459253, 0.        , 0.        , 0.        ,\n",
       "        0.        , 0.        , 0.        , 0.        , 0.18446078,\n",
       "        0.        , 0.13340067, 0.        , 0.        , 0.        ,\n",
       "        0.        , 0.18446078, 0.        , 0.        , 0.        ,\n",
       "        0.        , 0.        , 0.18446078, 0.        , 0.        ,\n",
       "        0.15459253, 0.        , 0.        , 0.18446078, 0.        ,\n",
       "        0.        , 0.        , 0.18446078, 0.10353242, 0.        ,\n",
       "        0.13340067, 0.18446078, 0.18446078, 0.        , 0.        ,\n",
       "        0.18446078, 0.        , 0.        , 0.        , 0.18446078,\n",
       "        0.15459253, 0.        , 0.        , 0.15459253, 0.15459253,\n",
       "        0.        , 0.        ]])"
      ]
     },
     "execution_count": 78,
     "metadata": {},
     "output_type": "execute_result"
    }
   ],
   "source": [
    "vectors = get_vector(t1, t1, t3, t4, t5, t6, t7, t8)\n",
    "vectors"
   ]
  },
  {
   "cell_type": "code",
   "execution_count": 79,
   "id": "dd18e318",
   "metadata": {},
   "outputs": [],
   "source": [
    "from sklearn.metrics.pairwise import cosine_similarity\n",
    "def get_similarity(vector):\n",
    "    return cosine_similarity(vector)"
   ]
  },
  {
   "cell_type": "code",
   "execution_count": 80,
   "id": "0fd66a4b",
   "metadata": {},
   "outputs": [
    {
     "data": {
      "text/plain": [
       "array([[1.        , 1.        , 0.02212977, 0.03807076, 0.15763466,\n",
       "        0.0793058 , 0.        , 0.02488156],\n",
       "       [1.        , 1.        , 0.02212977, 0.03807076, 0.15763466,\n",
       "        0.0793058 , 0.        , 0.02488156],\n",
       "       [0.02212977, 0.02212977, 1.        , 0.03795028, 0.07829353,\n",
       "        0.08161505, 0.        , 0.32202787],\n",
       "       [0.03807076, 0.03807076, 0.03795028, 1.        , 0.0584966 ,\n",
       "        0.04095905, 0.0327781 , 0.06400399],\n",
       "       [0.15763466, 0.15763466, 0.07829353, 0.0584966 , 1.        ,\n",
       "        0.0304638 , 0.02437912, 0.05085139],\n",
       "       [0.0793058 , 0.0793058 , 0.08161505, 0.04095905, 0.0304638 ,\n",
       "        1.        , 0.17547221, 0.        ],\n",
       "       [0.        , 0.        , 0.        , 0.0327781 , 0.02437912,\n",
       "        0.17547221, 1.        , 0.03671766],\n",
       "       [0.02488156, 0.02488156, 0.32202787, 0.06400399, 0.05085139,\n",
       "        0.        , 0.03671766, 1.        ]])"
      ]
     },
     "execution_count": 80,
     "metadata": {},
     "output_type": "execute_result"
    }
   ],
   "source": [
    "cos_sim = get_similarity(vectors)\n",
    "cos_sim"
   ]
  },
  {
   "cell_type": "code",
   "execution_count": 81,
   "id": "65c739ea",
   "metadata": {},
   "outputs": [
    {
     "data": {
      "text/plain": [
       "array([[ 1.04840661, -0.05445454],\n",
       "       [ 1.04840661, -0.05445454],\n",
       "       [-0.51111798, -0.56411783],\n",
       "       [-0.33659943,  0.12089965],\n",
       "       [-0.01926632, -0.05059989],\n",
       "       [-0.27549032,  0.55020971],\n",
       "       [-0.44322113,  0.64789631],\n",
       "       [-0.51111804, -0.59537888]])"
      ]
     },
     "execution_count": 81,
     "metadata": {},
     "output_type": "execute_result"
    }
   ],
   "source": [
    "# Diamentionaly reduction\n",
    "from sklearn.decomposition import PCA\n",
    "import matplotlib.pyplot as plt\n",
    "\n",
    "pca = PCA(n_components = 2)\n",
    "\n",
    "cos_sim_pca = pca.fit_transform(cos_sim)\n",
    "cos_sim_pca"
   ]
  },
  {
   "cell_type": "code",
   "execution_count": 82,
   "id": "d355d913",
   "metadata": {},
   "outputs": [
    {
     "data": {
      "text/plain": [
       "array([0.41291686, 0.18850397])"
      ]
     },
     "execution_count": 82,
     "metadata": {},
     "output_type": "execute_result"
    }
   ],
   "source": [
    "pca.explained_variance_ratio_"
   ]
  },
  {
   "cell_type": "code",
   "execution_count": 83,
   "id": "45992348",
   "metadata": {},
   "outputs": [
    {
     "data": {
      "text/plain": [
       "8"
      ]
     },
     "execution_count": 83,
     "metadata": {},
     "output_type": "execute_result"
    }
   ],
   "source": [
    "n = cos_sim_pca.shape[0]\n",
    "n"
   ]
  },
  {
   "cell_type": "code",
   "execution_count": 84,
   "id": "0876680e",
   "metadata": {},
   "outputs": [
    {
     "data": {
      "image/png": "[encoded data removed]",
      "text/plain": [
       "<Figure size 432x288 with 1 Axes>"
      ]
     },
     "metadata": {
      "needs_background": "light"
     },
     "output_type": "display_data"
    }
   ],
   "source": [
    "labels =[]\n",
    "for i in range(n):\n",
    "    x = cos_sim_pca[i, 0]\n",
    "    y = cos_sim_pca[i, 1]\n",
    "    label = 'Text -' +str(i+1)\n",
    "    labels.append(label)\n",
    "    plt.scatter(x,y,s =100)\n",
    "    plt.text(x+0.03, y+0.03, s= label)"
   ]
  },
  {
   "cell_type": "code",
   "execution_count": 85,
   "id": "b665d876",
   "metadata": {},
   "outputs": [
    {
     "name": "stdout",
     "output_type": "stream",
     "text": [
      "[1 1 3 0 0 2 2 3]\n",
      "[[-0.17793288  0.03514988]\n",
      " [ 1.04840661 -0.05445454]\n",
      " [-0.35935572  0.59905301]\n",
      " [-0.51111801 -0.57974835]]\n"
     ]
    }
   ],
   "source": [
    "# Clustering\n",
    "from sklearn.cluster import KMeans\n",
    "n_clusters = 4\n",
    "\n",
    "km = KMeans(n_clusters)\n",
    "km.fit(cos_sim_pca)\n",
    "print(km.labels_)\n",
    "print(km.cluster_centers_)"
   ]
  },
  {
   "cell_type": "code",
   "execution_count": 86,
   "id": "513564e0",
   "metadata": {},
   "outputs": [],
   "source": [
    "data = cos_sim_pca\n",
    "centers = km.cluster_centers_\n",
    "clusters = km.labels_"
   ]
  },
  {
   "cell_type": "code",
   "execution_count": 87,
   "id": "b2b5d908",
   "metadata": {},
   "outputs": [
    {
     "data": {
      "image/png": "[encoded data removed]",
      "text/plain": [
       "<Figure size 432x288 with 1 Axes>"
      ]
     },
     "metadata": {
      "needs_background": "light"
     },
     "output_type": "display_data"
    }
   ],
   "source": [
    "plt.scatter(data[:,0], data[:, 1], c=clusters, s = 300)\n",
    "plt.scatter(centers[:,0], centers[:,1], s=100, marker='*')\n",
    "\n",
    "for i in range(n):\n",
    "    x= data[i, 0]\n",
    "    y= data[i, 1]\n",
    "    plt.scatter(x,y)\n",
    "    plt.text(x+0.03, y+0.03, s= label)"
   ]
  },
  {
   "cell_type": "code",
   "execution_count": null,
   "id": "97d11824",
   "metadata": {},
   "outputs": [],
   "source": []
  }
 ],
 "metadata": {
  "celltoolbar": "Raw Cell Format",
  "kernelspec": {
   "display_name": "Python 3 (ipykernel)",
   "language": "python",
   "name": "python3"
  },
  "language_info": {
   "codemirror_mode": {
    "name": "ipython",
    "version": 3
   },
   "file_extension": ".py",
   "mimetype": "text/x-python",
   "name": "python",
   "nbconvert_exporter": "python",
   "pygments_lexer": "ipython3",
   "version": "3.9.12"
  }
 },
 "nbformat": 4,
 "nbformat_minor": 5
}
